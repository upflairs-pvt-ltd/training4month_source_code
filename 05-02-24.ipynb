{
 "cells": [
  {
   "cell_type": "code",
   "execution_count": 1,
   "metadata": {},
   "outputs": [
    {
     "name": "stdout",
     "output_type": "stream",
     "text": [
      "hello\n"
     ]
    }
   ],
   "source": [
    "print('hello')"
   ]
  },
  {
   "cell_type": "code",
   "execution_count": null,
   "metadata": {},
   "outputs": [],
   "source": [
    "# function \n",
    "# 1. in built function\n",
    "# 2. user defined function"
   ]
  },
  {
   "cell_type": "code",
   "execution_count": 4,
   "metadata": {},
   "outputs": [
    {
     "data": {
      "text/plain": [
       "96"
      ]
     },
     "execution_count": 4,
     "metadata": {},
     "output_type": "execute_result"
    }
   ],
   "source": [
    "lst = [ 2,5,4,8,96,5,4,7,8,2]\n",
    "max(lst)"
   ]
  },
  {
   "cell_type": "code",
   "execution_count": 6,
   "metadata": {},
   "outputs": [
    {
     "name": "stdout",
     "output_type": "stream",
     "text": [
      "hello welcome\n"
     ]
    }
   ],
   "source": [
    "# user defined function without parameter\n",
    "def functin_1():\n",
    "    print('hello welcome')\n",
    "\n",
    "\n",
    "functin_1()"
   ]
  },
  {
   "cell_type": "code",
   "execution_count": 7,
   "metadata": {},
   "outputs": [
    {
     "name": "stdout",
     "output_type": "stream",
     "text": [
      "10\n"
     ]
    }
   ],
   "source": [
    "def add(num1 , num2):\n",
    "    output = num1 + num2\n",
    "    print(output)\n",
    "\n",
    "add(5,5)"
   ]
  },
  {
   "cell_type": "code",
   "execution_count": 8,
   "metadata": {},
   "outputs": [
    {
     "name": "stdout",
     "output_type": "stream",
     "text": [
      "100\n"
     ]
    }
   ],
   "source": [
    "add(80,20)"
   ]
  },
  {
   "cell_type": "code",
   "execution_count": 35,
   "metadata": {},
   "outputs": [],
   "source": [
    "# input  -->   fun(1,2)   --->  output \n",
    "\n",
    "\n",
    "\n",
    "def add(num1 , num2):\n",
    "    output = num1 + num2\n",
    "    return output\n",
    "\n",
    "\n",
    "\n",
    "\n",
    "a = add(2,3)\n"
   ]
  },
  {
   "cell_type": "code",
   "execution_count": 47,
   "metadata": {},
   "outputs": [
    {
     "name": "stdout",
     "output_type": "stream",
     "text": [
      "152\n"
     ]
    }
   ],
   "source": [
    "# total sum of all even numbers\n",
    "square\n",
    "\n",
    "\n",
    "def fun(num):\n",
    "    temp = 0 \n",
    "    for item in num:\n",
    "        if item % 2 == 0:\n",
    "            temp = temp + item**2\n",
    "            \n",
    "    return temp\n",
    "output = fun([25,45,5,8,52,6,5,45,74,85,9,12])\n",
    "print(output)\n"
   ]
  },
  {
   "cell_type": "code",
   "execution_count": null,
   "metadata": {},
   "outputs": [],
   "source": [
    "**2"
   ]
  },
  {
   "cell_type": "code",
   "execution_count": 41,
   "metadata": {},
   "outputs": [
    {
     "data": {
      "text/plain": [
       "False"
      ]
     },
     "execution_count": 41,
     "metadata": {},
     "output_type": "execute_result"
    }
   ],
   "source": [
    "lst = [25,45,5,8,52,6,5,45,74,85,9,12]\n",
    "lst[0] % 2 ==0"
   ]
  },
  {
   "cell_type": "code",
   "execution_count": 13,
   "metadata": {},
   "outputs": [
    {
     "ename": "TypeError",
     "evalue": "'int' object is not callable",
     "output_type": "error",
     "traceback": [
      "\u001b[1;31m---------------------------------------------------------------------------\u001b[0m",
      "\u001b[1;31mTypeError\u001b[0m                                 Traceback (most recent call last)",
      "Cell \u001b[1;32mIn[13], line 1\u001b[0m\n\u001b[1;32m----> 1\u001b[0m \u001b[38;5;28;43mprint\u001b[39;49m\u001b[43m(\u001b[49m\u001b[38;5;124;43m'\u001b[39;49m\u001b[38;5;124;43mHello world\u001b[39;49m\u001b[38;5;124;43m'\u001b[39;49m\u001b[43m)\u001b[49m\n",
      "\u001b[1;31mTypeError\u001b[0m: 'int' object is not callable"
     ]
    }
   ],
   "source": [
    "print('Hello world')"
   ]
  },
  {
   "cell_type": "code",
   "execution_count": 14,
   "metadata": {},
   "outputs": [
    {
     "ename": "TypeError",
     "evalue": "'int' object is not callable",
     "output_type": "error",
     "traceback": [
      "\u001b[1;31m---------------------------------------------------------------------------\u001b[0m",
      "\u001b[1;31mTypeError\u001b[0m                                 Traceback (most recent call last)",
      "Cell \u001b[1;32mIn[14], line 1\u001b[0m\n\u001b[1;32m----> 1\u001b[0m \u001b[38;5;28;43mprint\u001b[39;49m\u001b[43m(\u001b[49m\u001b[38;5;124;43m\"\u001b[39;49m\u001b[38;5;124;43mHello, World!\u001b[39;49m\u001b[38;5;124;43m\"\u001b[39;49m\u001b[43m)\u001b[49m\n",
      "\u001b[1;31mTypeError\u001b[0m: 'int' object is not callable"
     ]
    }
   ],
   "source": [
    "print(\"Hello, World!\")"
   ]
  },
  {
   "cell_type": "code",
   "execution_count": 65,
   "metadata": {},
   "outputs": [
    {
     "name": "stdout",
     "output_type": "stream",
     "text": [
      "45 1\n"
     ]
    }
   ],
   "source": [
    "def target_position_finder(lst , target):\n",
    "\n",
    "    for position ,item in enumerate(lst):\n",
    "        if item == target:\n",
    "            print(item , position)\n",
    "\n",
    "        \n",
    "\n",
    "\n",
    "        \n",
    "\n",
    "lst = [25,45,5,8,52,6,5,48,48,74,85,9,12]\n",
    "target = 45\n",
    "target_position_finder(lst,target)"
   ]
  },
  {
   "cell_type": "code",
   "execution_count": null,
   "metadata": {},
   "outputs": [],
   "source": [
    "time complexity \n",
    "space complexity "
   ]
  },
  {
   "cell_type": "code",
   "execution_count": null,
   "metadata": {},
   "outputs": [],
   "source": [
    "### LIST COMPREHENSION"
   ]
  },
  {
   "cell_type": "code",
   "execution_count": 66,
   "metadata": {},
   "outputs": [
    {
     "data": {
      "text/plain": [
       "[625, 2025, 25, 64, 2704, 36, 25, 2304, 2304, 5476, 7225, 81, 144]"
      ]
     },
     "execution_count": 66,
     "metadata": {},
     "output_type": "execute_result"
    }
   ],
   "source": [
    "lst = [25,45,5,8,52,6,5,48,48,74,85,9,12]\n",
    "\n",
    "temp = []\n",
    "for item in lst:\n",
    "    temp.append(item**2)\n",
    "    \n",
    "temp"
   ]
  },
  {
   "cell_type": "code",
   "execution_count": 67,
   "metadata": {},
   "outputs": [
    {
     "data": {
      "text/plain": [
       "[625, 2025, 25, 64, 2704, 36, 25, 2304, 2304, 5476, 7225, 81, 144]"
      ]
     },
     "execution_count": 67,
     "metadata": {},
     "output_type": "execute_result"
    }
   ],
   "source": [
    "[item**2 for item in lst]"
   ]
  },
  {
   "cell_type": "code",
   "execution_count": 68,
   "metadata": {},
   "outputs": [
    {
     "data": {
      "text/plain": [
       "['a', 'b', 'c', 'k', 'm']"
      ]
     },
     "execution_count": 68,
     "metadata": {},
     "output_type": "execute_result"
    }
   ],
   "source": [
    "fruits = [\"apple\", \"banana\", \"cherry\", \"kiwi\", \"mango\"]\n",
    "temp = []\n",
    "for fruit in fruits:\n",
    "    temp.append(fruit[0])\n",
    "\n",
    "temp\n"
   ]
  },
  {
   "cell_type": "code",
   "execution_count": 70,
   "metadata": {},
   "outputs": [
    {
     "data": {
      "text/plain": [
       "['a', 'b', 'c', 'k', 'm']"
      ]
     },
     "execution_count": 70,
     "metadata": {},
     "output_type": "execute_result"
    }
   ],
   "source": [
    "new_list = [fruit[0] for fruit in fruits]\n",
    "new_list"
   ]
  },
  {
   "cell_type": "code",
   "execution_count": null,
   "metadata": {},
   "outputs": [],
   "source": [
    "lambda \n",
    "\n",
    "2+5\n",
    "56*5\n",
    "14/5"
   ]
  },
  {
   "cell_type": "code",
   "execution_count": 77,
   "metadata": {},
   "outputs": [
    {
     "data": {
      "text/plain": [
       "['odd', 'odd', 'odd', 'odd', 'odd', 'odd']"
      ]
     },
     "execution_count": 77,
     "metadata": {},
     "output_type": "execute_result"
    }
   ],
   "source": [
    "lst = [625, 2025, 25, 64, 2704, 36, 25, 2304, 2304, 5476, 7225, 81, 144]\n",
    "\n",
    "lst2 = [\"odd\" for item in lst if item %2 != 0]    \n",
    "lst2"
   ]
  },
  {
   "cell_type": "code",
   "execution_count": 78,
   "metadata": {},
   "outputs": [
    {
     "data": {
      "text/plain": [
       "['odd',\n",
       " 'odd',\n",
       " 'odd',\n",
       " 'even',\n",
       " 'even',\n",
       " 'even',\n",
       " 'odd',\n",
       " 'even',\n",
       " 'even',\n",
       " 'even',\n",
       " 'odd',\n",
       " 'odd',\n",
       " 'even']"
      ]
     },
     "execution_count": 78,
     "metadata": {},
     "output_type": "execute_result"
    }
   ],
   "source": [
    "lst = [625, 2025, 25, 64, 2704, 36, 25, 2304, 2304, 5476, 7225, 81, 144]\n",
    "\n",
    "lst3 = [\"odd\" if item %2 != 0 else \"even\" for item in lst ]    \n",
    "lst3"
   ]
  },
  {
   "cell_type": "code",
   "execution_count": 80,
   "metadata": {},
   "outputs": [
    {
     "data": {
      "text/plain": [
       "['odd',\n",
       " 'odd',\n",
       " 'odd',\n",
       " 'even',\n",
       " 'even',\n",
       " 'even',\n",
       " 'odd',\n",
       " 'even',\n",
       " 'even',\n",
       " 'even',\n",
       " 'odd',\n",
       " 'odd',\n",
       " 'even']"
      ]
     },
     "execution_count": 80,
     "metadata": {},
     "output_type": "execute_result"
    }
   ],
   "source": [
    "lst = [625, 2025, 25, 64, 2704, 36, 25, 2304, 2304, 5476, 7225, 81, 144]\n",
    "\n",
    "lst3 = [\"odd\" if item %2 != 0 else \"even\"  for item in lst ]    \n",
    "lst3"
   ]
  },
  {
   "cell_type": "code",
   "execution_count": 83,
   "metadata": {},
   "outputs": [],
   "source": [
    "lst = (625, 2025, 25, 64, 2704, 36, 25, 2304, 2304, 5476, 7225, 81, 144)\n",
    "\n",
    "tpl = (\"odd\" if item %2 != 0 else \"even\"  for item in lst )    \n"
   ]
  },
  {
   "cell_type": "code",
   "execution_count": 85,
   "metadata": {},
   "outputs": [
    {
     "data": {
      "text/plain": [
       "('odd',\n",
       " 'odd',\n",
       " 'odd',\n",
       " 'even',\n",
       " 'even',\n",
       " 'even',\n",
       " 'odd',\n",
       " 'even',\n",
       " 'even',\n",
       " 'even',\n",
       " 'odd',\n",
       " 'odd',\n",
       " 'even')"
      ]
     },
     "execution_count": 85,
     "metadata": {},
     "output_type": "execute_result"
    }
   ],
   "source": [
    "tuple(tpl)"
   ]
  }
 ],
 "metadata": {
  "kernelspec": {
   "display_name": "Python 3",
   "language": "python",
   "name": "python3"
  },
  "language_info": {
   "codemirror_mode": {
    "name": "ipython",
    "version": 3
   },
   "file_extension": ".py",
   "mimetype": "text/x-python",
   "name": "python",
   "nbconvert_exporter": "python",
   "pygments_lexer": "ipython3",
   "version": "3.11.5"
  }
 },
 "nbformat": 4,
 "nbformat_minor": 2
}
