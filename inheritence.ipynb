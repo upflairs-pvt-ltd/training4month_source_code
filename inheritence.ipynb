{
 "cells": [
  {
   "cell_type": "markdown",
   "metadata": {},
   "source": [
    "### Inheritence"
   ]
  },
  {
   "cell_type": "code",
   "execution_count": 13,
   "metadata": {},
   "outputs": [
    {
     "name": "stdout",
     "output_type": "stream",
     "text": [
      "hello\n"
     ]
    }
   ],
   "source": [
    "# single inheritence\n",
    "class Father:\n",
    "    def father_name(self):\n",
    "        print('Mohan singh') \n",
    "\n",
    "    @staticmethod\n",
    "    def hello():\n",
    "        print('hello')\n",
    "\n",
    "class Child(Father):\n",
    "\n",
    "    def children_name(self):\n",
    "        print('rohit kumar')\n",
    "\n",
    "    \n",
    "    \n",
    "\n",
    "father_instance  = Father()\n",
    "children_instance = Child()\n",
    "# father_instance.father_name()  \n",
    "# father_instance.children_name()  \n",
    "# children_instance.children_name()\n",
    "children_instance."
   ]
  },
  {
   "cell_type": "code",
   "execution_count": 23,
   "metadata": {},
   "outputs": [
    {
     "name": "stdout",
     "output_type": "stream",
     "text": [
      "child constructor executed\n",
      "father constructor executed\n",
      "hello\n",
      "mohan singh\n"
     ]
    }
   ],
   "source": [
    "# single \n",
    "# multilevel\n",
    "# multiple \n",
    "# hierarchical\n",
    "# hybrid\n",
    "\n",
    "\n",
    "# single inheritence with constructor\n",
    "class Father:\n",
    "    def __init__(self,father_name, father_age):\n",
    "        self.father_name = father_name\n",
    "        self.father_age = father_age\n",
    "        print('father constructor executed')\n",
    "\n",
    "    def father_hii(self):\n",
    "        print(self.father_name) \n",
    "\n",
    "    @staticmethod\n",
    "    def hello():\n",
    "        print('hello')\n",
    "\n",
    "class Child(Father):\n",
    "\n",
    "    def __init__(self,children_name,children_age,father_name,father_age):\n",
    "        self.children_name = children_name\n",
    "        self.children_age  = children_age\n",
    "        print('child constructor executed')\n",
    "        super().__init__(father_name=father_name,father_age=father_age)\n",
    "        super().hello()\n",
    "\n",
    "    def children_name(self):\n",
    "        print('rohit kumar')\n",
    "\n",
    "    \n",
    "    \n",
    "\n",
    "# father_instance  = Father(father_name=\"mohan singh\",father_age=45)\n",
    "children_instance = Child(children_name='rohit kumar',children_age=25,father_name=\"mohan singh\",father_age=45)\n",
    "# father_instance.father_hii()\n",
    "children_instance.father_hii()\n"
   ]
  },
  {
   "cell_type": "code",
   "execution_count": 59,
   "metadata": {},
   "outputs": [
    {
     "name": "stdout",
     "output_type": "stream",
     "text": [
      "father constructor executed\n",
      "rohit kumar 45\n",
      "mohan singh\n"
     ]
    }
   ],
   "source": [
    "# multileve inheritence\n",
    "class Father:\n",
    "    def __init__(self,father_name, father_age):\n",
    "        self.father_name = father_name\n",
    "        self.father_age = father_age\n",
    "        print('father constructor executed')\n",
    "\n",
    "    def father_hii(self):\n",
    "        print(self.father_name) \n",
    "\n",
    "    @staticmethod\n",
    "    def hello():\n",
    "        print('hello')\n",
    "\n",
    "class Child(Father):\n",
    "\n",
    "    def __init__(self,children_name,children_age,father_name,father_age):\n",
    "        self.children_name = children_name\n",
    "        self.children_age  = children_age\n",
    "        Father.__init__(self,father_name,father_age)\n",
    "\n",
    "    def childhii(self):\n",
    "        print(self.children_name,self.children_age)\n",
    "\n",
    "\n",
    "class GrandChild(Child):\n",
    "    def __init__(self,grand_child_name,grand_child_age,children_name,children_age):\n",
    "        self.grand_name = grand_child_name\n",
    "        self.grand_age = grand_child_age\n",
    "        # Father.__init__(self,father_name,father_age)\n",
    "        Child.__init__(self,children_name,children_age)\n",
    "\n",
    "    def grandchildHii(self):\n",
    "        print(\"name : \",self.grand_name,\"and age is : \",self.grand_age)\n",
    "\n",
    "    \n",
    "    \n",
    "\n",
    "# father_instance  = Father(father_name=\"mohan singh\",father_age=45)\n",
    "# children_instance = Child(children_name='rohit kumar',children_age=25,father_name=\"mohan singh\",father_age=45)\n",
    "\n",
    "# grand_obj = GrandChild(grand_child_name='chhotu',grand_child_age=12,children_name='rohit kumar',children_age=25)\n",
    "# grand_obj.grandchildHii()\n",
    "# print()\n",
    "# grand_obj.childhii()\n",
    "# print()\n",
    "# grand_obj.father_hii()\n",
    "\n",
    "# print()\n",
    "# print()\n",
    "child_obj = Child(children_name='rohit kumar',children_age=45,father_name='mohan singh',father_age=45)\n",
    "child_obj.childhii()\n",
    "# print()\n",
    "child_obj.father_hii()"
   ]
  },
  {
   "cell_type": "code",
   "execution_count": 3,
   "metadata": {},
   "outputs": [
    {
     "name": "stdout",
     "output_type": "stream",
     "text": [
      "hello\n"
     ]
    }
   ],
   "source": [
    "hello()"
   ]
  },
  {
   "cell_type": "code",
   "execution_count": null,
   "metadata": {},
   "outputs": [],
   "source": []
  },
  {
   "cell_type": "code",
   "execution_count": null,
   "metadata": {},
   "outputs": [],
   "source": []
  },
  {
   "cell_type": "code",
   "execution_count": null,
   "metadata": {},
   "outputs": [],
   "source": []
  },
  {
   "cell_type": "code",
   "execution_count": null,
   "metadata": {},
   "outputs": [],
   "source": []
  },
  {
   "cell_type": "code",
   "execution_count": null,
   "metadata": {},
   "outputs": [],
   "source": []
  },
  {
   "cell_type": "code",
   "execution_count": null,
   "metadata": {},
   "outputs": [],
   "source": []
  },
  {
   "cell_type": "code",
   "execution_count": null,
   "metadata": {},
   "outputs": [],
   "source": []
  },
  {
   "cell_type": "code",
   "execution_count": null,
   "metadata": {},
   "outputs": [],
   "source": []
  },
  {
   "cell_type": "code",
   "execution_count": null,
   "metadata": {},
   "outputs": [],
   "source": []
  },
  {
   "cell_type": "code",
   "execution_count": null,
   "metadata": {},
   "outputs": [],
   "source": []
  },
  {
   "cell_type": "code",
   "execution_count": null,
   "metadata": {},
   "outputs": [],
   "source": []
  },
  {
   "cell_type": "code",
   "execution_count": null,
   "metadata": {},
   "outputs": [],
   "source": []
  }
 ],
 "metadata": {
  "kernelspec": {
   "display_name": "Python 3",
   "language": "python",
   "name": "python3"
  },
  "language_info": {
   "codemirror_mode": {
    "name": "ipython",
    "version": 3
   },
   "file_extension": ".py",
   "mimetype": "text/x-python",
   "name": "python",
   "nbconvert_exporter": "python",
   "pygments_lexer": "ipython3",
   "version": "3.11.5"
  }
 },
 "nbformat": 4,
 "nbformat_minor": 2
}
